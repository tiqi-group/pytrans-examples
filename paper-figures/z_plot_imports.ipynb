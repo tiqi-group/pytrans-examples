{
 "cells": [
  {
   "cell_type": "code",
   "execution_count": 1,
   "metadata": {},
   "outputs": [],
   "source": [
    "import pathlib\n",
    "from import_deps import PyModule, ModuleSet\n",
    "import pygraphviz"
   ]
  },
  {
   "cell_type": "code",
   "execution_count": 2,
   "metadata": {},
   "outputs": [],
   "source": [
    "pytrans_module_root = r'C:\\Users\\carmelo\\eth\\projects\\pytrans-examples\\deps\\pytrans\\pytrans'\n",
    "\n",
    "def get_imports(pkg_modules, module_path):\n",
    "    module = pkg_modules.by_path[module_path]\n",
    "    imports = pkg_modules.get_imports(module, return_fqn=True)\n",
    "    return list(sorted(imports))\n",
    "\n",
    "\n",
    "def _imports(module_root):\n",
    "    \"\"\"find imports from a python module\"\"\"\n",
    "    base_path = pathlib.Path(module_root)\n",
    "    pkg_modules = ModuleSet(base_path.glob('**/*.py'))\n",
    "    imports = {}\n",
    "    for _, module in pkg_modules.by_name.items():\n",
    "        importname = '.'.join(module.fqn)\n",
    "        imports[importname] = get_imports(pkg_modules, module.path)\n",
    "    return imports\n",
    "\n",
    "\n"
   ]
  },
  {
   "cell_type": "code",
   "execution_count": 10,
   "metadata": {},
   "outputs": [],
   "source": [
    "# def module_to_dot(imports, target='pytrans.dot'):\n",
    "#     graph = pygraphviz.AGraph(strict=False, directed=True)\n",
    "#     graph.node_attr['color'] = 'lightblue2'\n",
    "#     graph.node_attr['style'] = 'filled'\n",
    "#     for source, sinks in imports.items():\n",
    "#         for sink in sinks:\n",
    "#             graph.add_edge(source, sink)\n",
    "#     graph.write(target)\n",
    "\n",
    "def module_to_dot(imports, target='pytrans.dot'):\n",
    "    graph = pygraphviz.AGraph(strict=False, directed=True)\n",
    "    graph.node_attr['style'] = 'filled'\n",
    "    for source, sinks in imports.items():\n",
    "        if source.endswith('__init__'):\n",
    "            color = 'lightyellow'\n",
    "            source = source[:-9]\n",
    "        else:\n",
    "            color = 'lightblue2'\n",
    "        for sink in sinks:\n",
    "            graph.add_edge(source, sink)\n",
    "            node = graph.get_node(source)\n",
    "            node.attr['color'] = color\n",
    "    \n",
    "    graph.write(target)\n"
   ]
  },
  {
   "cell_type": "code",
   "execution_count": 11,
   "metadata": {},
   "outputs": [],
   "source": [
    "imports = _imports(pytrans_module_root)\n",
    "\n",
    "module_to_dot(imports)"
   ]
  },
  {
   "cell_type": "code",
   "execution_count": 5,
   "metadata": {},
   "outputs": [
    {
     "data": {
      "text/plain": [
       "{'pytrans.abstract_model': ['pytrans.electrode', 'pytrans.typing'],\n",
       " 'pytrans.conversion': ['pytrans.ions'],\n",
       " 'pytrans.electrode': [],\n",
       " 'pytrans.functions': ['pytrans.conversion', 'pytrans.ions'],\n",
       " 'pytrans.indexing': ['pytrans.abstract_model', 'pytrans.typing'],\n",
       " 'pytrans.ions': [],\n",
       " 'pytrans.objectives': ['pytrans.abstract_model',\n",
       "  'pytrans.indexing',\n",
       "  'pytrans.ions'],\n",
       " 'pytrans.sampling': [],\n",
       " 'pytrans.solver': ['pytrans.objectives'],\n",
       " 'pytrans.timer': [],\n",
       " 'pytrans.typing': [],\n",
       " 'pytrans.__init__': ['pytrans.abstract_model', 'pytrans.electrode'],\n",
       " 'pytrans.analysis.analysis': ['pytrans.abstract_model',\n",
       "  'pytrans.analysis.mode_solver',\n",
       "  'pytrans.analysis.results',\n",
       "  'pytrans.ions',\n",
       "  'pytrans.plotting.plotting',\n",
       "  'pytrans.plotting.roi',\n",
       "  'pytrans.timer',\n",
       "  'pytrans.typing'],\n",
       " 'pytrans.analysis.analytic_traps': ['pytrans.conversion', 'pytrans.ions'],\n",
       " 'pytrans.analysis.mode_solver': ['pytrans.abstract_model',\n",
       "  'pytrans.analysis.results',\n",
       "  'pytrans.ions',\n",
       "  'pytrans.typing'],\n",
       " 'pytrans.analysis.results': ['pytrans.conversion', 'pytrans.ions'],\n",
       " 'pytrans.analysis.simulate': ['pytrans.abstract_model',\n",
       "  'pytrans.analysis.mode_solver',\n",
       "  'pytrans.ions',\n",
       "  'pytrans.typing'],\n",
       " 'pytrans.analysis.simulate1d': [],\n",
       " 'pytrans.analysis.__init__': ['pytrans.analysis.analysis',\n",
       "  'pytrans.analysis.mode_solver',\n",
       "  'pytrans.analysis.simulate'],\n",
       " 'pytrans.plotting.animate': [],\n",
       " 'pytrans.plotting.plotting': ['pytrans.abstract_model',\n",
       "  'pytrans.analysis.results',\n",
       "  'pytrans.ions',\n",
       "  'pytrans.plotting.roi',\n",
       "  'pytrans.typing'],\n",
       " 'pytrans.plotting.roi': ['pytrans.typing'],\n",
       " 'pytrans.plotting.__init__': ['pytrans.plotting.plotting'],\n",
       " 'pytrans.transform.filter': [],\n",
       " 'pytrans.transform.__init__': ['pytrans.transform.filter']}"
      ]
     },
     "execution_count": 5,
     "metadata": {},
     "output_type": "execute_result"
    }
   ],
   "source": [
    "imports"
   ]
  },
  {
   "cell_type": "code",
   "execution_count": null,
   "metadata": {},
   "outputs": [],
   "source": []
  }
 ],
 "metadata": {
  "kernelspec": {
   "display_name": ".venv",
   "language": "python",
   "name": "python3"
  },
  "language_info": {
   "codemirror_mode": {
    "name": "ipython",
    "version": 3
   },
   "file_extension": ".py",
   "mimetype": "text/x-python",
   "name": "python",
   "nbconvert_exporter": "python",
   "pygments_lexer": "ipython3",
   "version": "3.10.4"
  },
  "orig_nbformat": 4
 },
 "nbformat": 4,
 "nbformat_minor": 2
}
