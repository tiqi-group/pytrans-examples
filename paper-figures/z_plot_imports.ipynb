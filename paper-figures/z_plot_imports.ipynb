{
 "cells": [
  {
   "cell_type": "code",
   "execution_count": 1,
   "metadata": {},
   "outputs": [],
   "source": [
    "%reload_ext autoreload\n",
    "%autoreload 2"
   ]
  },
  {
   "cell_type": "code",
   "execution_count": 2,
   "metadata": {},
   "outputs": [],
   "source": [
    "from pathlib import Path\n",
    "from import_deps import PyModule, ModuleSet\n",
    "import pygraphviz\n",
    "\n",
    "import pytrans\n",
    "pytrans_module_root = Path(pytrans.__file__).resolve().parent\n"
   ]
  },
  {
   "cell_type": "code",
   "execution_count": 3,
   "metadata": {},
   "outputs": [
    {
     "data": {
      "text/plain": [
       "WindowsPath('D:/Scratch/pytrans-examples/deps/pytrans/pytrans')"
      ]
     },
     "execution_count": 3,
     "metadata": {},
     "output_type": "execute_result"
    }
   ],
   "source": [
    "pytrans_module_root"
   ]
  },
  {
   "cell_type": "code",
   "execution_count": 4,
   "metadata": {},
   "outputs": [],
   "source": [
    "\n",
    "\n",
    "def get_imports(pkg_modules, module_path):\n",
    "    module = pkg_modules.by_path[module_path]\n",
    "    imports = pkg_modules.get_imports(module, return_fqn=True)\n",
    "    return list(sorted(imports))\n",
    "\n",
    "\n",
    "def _imports(module_root):\n",
    "    \"\"\"find imports from a python module\"\"\"\n",
    "    base_path = Path(module_root)\n",
    "    pkg_modules = ModuleSet(base_path.glob('**/*.py'))\n",
    "    imports = {}\n",
    "    for _, module in pkg_modules.by_name.items():\n",
    "        importname = '.'.join(module.fqn)\n",
    "        imports[importname] = get_imports(pkg_modules, module.path)\n",
    "    return imports\n",
    "\n",
    "imports = _imports(pytrans_module_root)\n",
    "\n"
   ]
  },
  {
   "cell_type": "code",
   "execution_count": 6,
   "metadata": {},
   "outputs": [],
   "source": [
    "\n",
    "\n",
    "graph = pygraphviz.AGraph(strict=False, directed=True)\n",
    "graph.node_attr['style'] = 'filled'\n",
    "graph.node_attr['color'] = 'lightblue2'\n",
    "for source, sinks in imports.items():\n",
    "    if source.endswith('__init__'):\n",
    "        color = 'lightyellow'\n",
    "        source = source[:-9]\n",
    "    else:\n",
    "        color = 'lightblue2'\n",
    "    for sink in sinks:\n",
    "        graph.add_edge(source, sink)\n",
    "        node = graph.get_node(source)\n",
    "        node.attr['color'] = color\n",
    "    \n",
    "graph.layout(prog=\"twopi\")  # , args=\"-Nshape=box -Efontsize=6\")\n",
    "\n",
    "dotfile = 'pytrans.dot'\n",
    "graph.write(dotfile)\n",
    "\n",
    "graph.draw('figures/fig_imports.png')\n"
   ]
  },
  {
   "cell_type": "code",
   "execution_count": null,
   "metadata": {},
   "outputs": [],
   "source": []
  },
  {
   "cell_type": "code",
   "execution_count": null,
   "metadata": {},
   "outputs": [],
   "source": []
  }
 ],
 "metadata": {
  "kernelspec": {
   "display_name": ".venv",
   "language": "python",
   "name": "python3"
  },
  "language_info": {
   "codemirror_mode": {
    "name": "ipython",
    "version": 3
   },
   "file_extension": ".py",
   "mimetype": "text/x-python",
   "name": "python",
   "nbconvert_exporter": "python",
   "pygments_lexer": "ipython3",
   "version": "3.10.5"
  },
  "orig_nbformat": 4,
  "vscode": {
   "interpreter": {
    "hash": "e80bed49207b66a81e9cb3cb21cb1b204ef11ce4fbc928d6d0f4cf73f3dd8732"
   }
  }
 },
 "nbformat": 4,
 "nbformat_minor": 2
}
