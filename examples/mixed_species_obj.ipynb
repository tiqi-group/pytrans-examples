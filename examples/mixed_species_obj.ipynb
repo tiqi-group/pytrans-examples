{
 "cells": [
  {
   "attachments": {},
   "cell_type": "markdown",
   "metadata": {},
   "source": [
    "# Test Objectives for mixed species\n",
    "\n",
    "Now that trap.potential(s) explicitly require to pass an Ion, the Objectives should do the same"
   ]
  },
  {
   "cell_type": "code",
   "execution_count": 1,
   "metadata": {},
   "outputs": [
    {
     "name": "stderr",
     "output_type": "stream",
     "text": [
      "Loading interpolators: 100%|██████████| 13/13 [00:03<00:00,  3.92it/s]\n"
     ]
    }
   ],
   "source": [
    "from pytrans import objectives as obj\n",
    "from pytrans.solver import solver\n",
    "\n",
    "from pytrans.analysis import analyse_potential\n",
    "from models.surface_trap.plot import plot_voltages_on_trap\n",
    "\n",
    "from pytrans.ions import Ca40, Be9, elementary_charge\n",
    "from pytrans.conversion import freq_to_curv\n",
    "\n"
   ]
  },
  {
   "cell_type": "code",
   "execution_count": null,
   "metadata": {},
   "outputs": [],
   "source": []
  }
 ],
 "metadata": {
  "kernelspec": {
   "display_name": "Python 3.10.5 ('.venv': poetry)",
   "language": "python",
   "name": "python3"
  },
  "language_info": {
   "codemirror_mode": {
    "name": "ipython",
    "version": 3
   },
   "file_extension": ".py",
   "mimetype": "text/x-python",
   "name": "python",
   "nbconvert_exporter": "python",
   "pygments_lexer": "ipython3",
   "version": "3.10.5"
  },
  "orig_nbformat": 4,
  "vscode": {
   "interpreter": {
    "hash": "e80bed49207b66a81e9cb3cb21cb1b204ef11ce4fbc928d6d0f4cf73f3dd8732"
   }
  }
 },
 "nbformat": 4,
 "nbformat_minor": 2
}
