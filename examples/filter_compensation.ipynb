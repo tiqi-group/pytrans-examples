{
 "cells": [
  {
   "cell_type": "code",
   "execution_count": 11,
   "metadata": {},
   "outputs": [],
   "source": [
    "%reload_ext autoreload\n",
    "%autoreload 2\n"
   ]
  },
  {
   "cell_type": "code",
   "execution_count": 12,
   "metadata": {},
   "outputs": [],
   "source": [
    "#!/usr/bin/env python\n",
    "# -*- coding:utf-8 -*-\n",
    "#\n",
    "# Created: 03/2022\n",
    "# Author: Carmelo Mordini <cmordini@phys.ethz.ch>\n",
    "\n",
    "import matplotlib.pyplot as plt\n",
    "from scipy import signal as sg\n",
    "\n",
    "dt = 392e-9\n",
    "fs = 1 / dt  # waveform sample rate\n",
    "\n",
    "R1 = 200\n",
    "C1 = 10e-9\n",
    "R2 = 180\n",
    "C2 = 33e-9\n",
    "\n",
    "tau1 = R1 * C1\n",
    "tau2 = R2 * C2\n",
    "\n",
    "zpk_analog = [], [-1 / tau1, -1 / tau2], 1 / tau1 / tau2\n",
    "zpk_dig = sg.bilinear_zpk(*zpk_analog, fs)\n",
    "b, a = sg.zpk2tf(*zpk_dig)\n",
    "\n",
    "# cryo_filter = sg.dlti(b, a, dt=dt)\n",
    "_trap_filter = b, a, dt"
   ]
  },
  {
   "cell_type": "code",
   "execution_count": 13,
   "metadata": {},
   "outputs": [
    {
     "name": "stdout",
     "output_type": "stream",
     "text": [
      "Running solver\n"
     ]
    },
    {
     "name": "stderr",
     "output_type": "stream",
     "text": [
      "Compiling step objectives: 100%|██████████| 307/307 [00:00<00:00, 2407.06it/s]\n",
      "d:\\Scratch\\pytrans-examples\\.venv\\lib\\site-packages\\cvxpy\\problems\\problem.py:155: UserWarning: Objective contains too many subexpressions. Consider vectorizing your CVXPY code to speed up compilation.\n",
      "  warnings.warn(\"Objective contains too many subexpressions. \"\n"
     ]
    },
    {
     "name": "stdout",
     "output_type": "stream",
     "text": [
      "===============================================================================\n",
      "                                     CVXPY                                     \n",
      "                                     v1.3.0                                    \n",
      "===============================================================================\n",
      "(CVXPY) Jun 16 05:10:37 PM: Your problem has 256 variables, 1 constraints, and 0 parameters.\n",
      "(CVXPY) Jun 16 05:10:37 PM: It is compliant with the following grammars: DCP, DQCP\n",
      "(CVXPY) Jun 16 05:10:37 PM: (If you need to solve this problem multiple times, but with different data, consider using parameters.)\n",
      "(CVXPY) Jun 16 05:10:38 PM: CVXPY will first compile your problem; then, it will invoke a numerical solver to obtain a solution.\n",
      "-------------------------------------------------------------------------------\n",
      "                                  Compilation                                  \n",
      "-------------------------------------------------------------------------------\n",
      "(CVXPY) Jun 16 05:10:38 PM: Compiling problem (target solver=MOSEK).\n",
      "(CVXPY) Jun 16 05:10:38 PM: Reduction chain: Dcp2Cone -> CvxAttr2Constr -> ConeMatrixStuffing -> MOSEK\n",
      "(CVXPY) Jun 16 05:10:38 PM: Applying reduction Dcp2Cone\n",
      "(CVXPY) Jun 16 05:10:40 PM: Applying reduction CvxAttr2Constr\n",
      "(CVXPY) Jun 16 05:10:40 PM: Applying reduction ConeMatrixStuffing\n",
      "(CVXPY) Jun 16 05:10:48 PM: Applying reduction MOSEK\n",
      "(CVXPY) Jun 16 05:10:49 PM: Finished problem compilation (took 1.069e+01 seconds).\n",
      "-------------------------------------------------------------------------------\n",
      "                                Numerical solver                               \n",
      "-------------------------------------------------------------------------------\n",
      "(CVXPY) Jun 16 05:10:49 PM: Invoking solver MOSEK  to obtain a solution.\n",
      "\n",
      "\n",
      "(CVXPY) Jun 16 05:10:49 PM: Problem\n",
      "(CVXPY) Jun 16 05:10:49 PM:   Name                   :                 \n",
      "(CVXPY) Jun 16 05:10:49 PM:   Objective sense        : max             \n",
      "(CVXPY) Jun 16 05:10:49 PM:   Type                   : CONIC (conic optimization problem)\n",
      "(CVXPY) Jun 16 05:10:49 PM:   Constraints            : 818             \n",
      "(CVXPY) Jun 16 05:10:49 PM:   Cones                  : 306             \n",
      "(CVXPY) Jun 16 05:10:49 PM:   Scalar variables       : 1684            \n",
      "(CVXPY) Jun 16 05:10:49 PM:   Matrix variables       : 0               \n",
      "(CVXPY) Jun 16 05:10:49 PM:   Integer variables      : 0               \n",
      "(CVXPY) Jun 16 05:10:49 PM: \n",
      "(CVXPY) Jun 16 05:10:49 PM: Optimizer started.\n",
      "(CVXPY) Jun 16 05:10:49 PM: Presolve started.\n",
      "(CVXPY) Jun 16 05:10:49 PM: Linear dependency checker started.\n",
      "(CVXPY) Jun 16 05:10:49 PM: Linear dependency checker terminated.\n",
      "(CVXPY) Jun 16 05:10:49 PM: Eliminator started.\n",
      "(CVXPY) Jun 16 05:10:49 PM: Freed constraints in eliminator : 0\n",
      "(CVXPY) Jun 16 05:10:49 PM: Eliminator terminated.\n",
      "(CVXPY) Jun 16 05:10:49 PM: Eliminator started.\n",
      "(CVXPY) Jun 16 05:10:49 PM: Freed constraints in eliminator : 0\n",
      "(CVXPY) Jun 16 05:10:49 PM: Eliminator terminated.\n",
      "(CVXPY) Jun 16 05:10:49 PM: Eliminator - tries                  : 2                 time                   : 0.00            \n",
      "(CVXPY) Jun 16 05:10:49 PM: Lin. dep.  - tries                  : 1                 time                   : 0.02            \n",
      "(CVXPY) Jun 16 05:10:49 PM: Lin. dep.  - number                 : 0               \n",
      "(CVXPY) Jun 16 05:10:49 PM: Presolve terminated. Time: 0.03    \n",
      "(CVXPY) Jun 16 05:10:49 PM: Problem\n",
      "(CVXPY) Jun 16 05:10:49 PM:   Name                   :                 \n",
      "(CVXPY) Jun 16 05:10:49 PM:   Objective sense        : max             \n",
      "(CVXPY) Jun 16 05:10:49 PM:   Type                   : CONIC (conic optimization problem)\n",
      "(CVXPY) Jun 16 05:10:49 PM:   Constraints            : 818             \n",
      "(CVXPY) Jun 16 05:10:49 PM:   Cones                  : 306             \n",
      "(CVXPY) Jun 16 05:10:49 PM:   Scalar variables       : 1684            \n",
      "(CVXPY) Jun 16 05:10:49 PM:   Matrix variables       : 0               \n",
      "(CVXPY) Jun 16 05:10:49 PM:   Integer variables      : 0               \n",
      "(CVXPY) Jun 16 05:10:49 PM: \n",
      "(CVXPY) Jun 16 05:10:49 PM: Optimizer  - threads                : 4               \n",
      "(CVXPY) Jun 16 05:10:49 PM: Optimizer  - solved problem         : the primal      \n",
      "(CVXPY) Jun 16 05:10:49 PM: Optimizer  - Constraints            : 562\n",
      "(CVXPY) Jun 16 05:10:49 PM: Optimizer  - Cones                  : 306\n",
      "(CVXPY) Jun 16 05:10:49 PM: Optimizer  - Scalar variables       : 1428              conic                  : 918             \n",
      "(CVXPY) Jun 16 05:10:49 PM: Optimizer  - Semi-definite variables: 0                 scalarized             : 0               \n",
      "(CVXPY) Jun 16 05:10:49 PM: Factor     - setup time             : 0.03              dense det. time        : 0.00            \n",
      "(CVXPY) Jun 16 05:10:49 PM: Factor     - ML order time          : 0.00              GP order time          : 0.00            \n",
      "(CVXPY) Jun 16 05:10:49 PM: Factor     - nonzeros before factor : 4.50e+04          after factor           : 4.96e+04        \n",
      "(CVXPY) Jun 16 05:10:49 PM: Factor     - dense dim.             : 0                 flops                  : 9.46e+06        \n",
      "(CVXPY) Jun 16 05:10:49 PM: ITE PFEAS    DFEAS    GFEAS    PRSTATUS   POBJ              DOBJ              MU       TIME  \n",
      "(CVXPY) Jun 16 05:10:49 PM: 0   1.0e+00  2.0e+00  3.1e+02  0.00e+00   -3.060000000e+02  0.000000000e+00   1.0e+00  0.06  \n",
      "(CVXPY) Jun 16 05:10:49 PM: 1   1.5e-01  3.0e-01  1.2e+01  5.43e-01   -5.472871849e+01  -1.113181166e+01  1.5e-01  0.09  \n",
      "(CVXPY) Jun 16 05:10:49 PM: 2   1.2e-02  2.5e-02  2.2e-01  1.25e+00   -3.460058872e+00  -3.282184785e-01  1.2e-02  0.11  \n",
      "(CVXPY) Jun 16 05:10:49 PM: 3   1.4e-03  2.7e-03  6.4e-03  1.03e+00   -1.669178821e-01  1.743720710e-01   1.4e-03  0.11  \n",
      "(CVXPY) Jun 16 05:10:49 PM: 4   1.7e-04  3.3e-04  3.4e-04  1.00e+00   1.433358037e-01   1.846288911e-01   1.7e-04  0.13  \n",
      "(CVXPY) Jun 16 05:10:49 PM: 5   2.4e-05  4.8e-05  2.6e-05  1.00e+00   1.644869874e-01   1.704598242e-01   2.4e-05  0.14  \n",
      "(CVXPY) Jun 16 05:10:49 PM: 6   3.7e-06  7.4e-06  1.7e-06  1.00e+00   1.665848038e-01   1.675010601e-01   3.7e-06  0.14  \n",
      "(CVXPY) Jun 16 05:10:49 PM: 7   6.3e-07  1.3e-06  1.2e-07  1.00e+00   1.670737010e-01   1.672307697e-01   6.3e-07  0.16  \n",
      "(CVXPY) Jun 16 05:10:49 PM: 8   7.5e-08  1.5e-07  5.1e-09  1.00e+00   1.671595337e-01   1.671780861e-01   7.5e-08  0.17  \n",
      "(CVXPY) Jun 16 05:10:49 PM: 9   1.0e-08  2.0e-08  2.5e-10  1.00e+00   1.671695959e-01   1.671720851e-01   1.0e-08  0.17  \n",
      "(CVXPY) Jun 16 05:10:49 PM: 10  1.4e-09  2.7e-09  1.2e-11  1.00e+00   1.671708569e-01   1.671711933e-01   1.4e-09  0.19  \n",
      "(CVXPY) Jun 16 05:10:49 PM: 11  2.1e-10  4.2e-10  7.4e-13  1.00e+00   1.671710352e-01   1.671710864e-01   2.1e-10  0.19  \n",
      "(CVXPY) Jun 16 05:10:49 PM: 12  5.8e-11  1.7e-10  4.3e-14  1.00e+00   1.671710615e-01   1.671710691e-01   3.1e-11  0.20  \n",
      "(CVXPY) Jun 16 05:10:49 PM: Optimizer terminated. Time: 0.22    \n",
      "(CVXPY) Jun 16 05:10:49 PM: \n",
      "(CVXPY) Jun 16 05:10:49 PM: \n",
      "(CVXPY) Jun 16 05:10:49 PM: Interior-point solution summary\n",
      "(CVXPY) Jun 16 05:10:49 PM:   Problem status  : PRIMAL_AND_DUAL_FEASIBLE\n",
      "(CVXPY) Jun 16 05:10:49 PM:   Solution status : OPTIMAL\n",
      "(CVXPY) Jun 16 05:10:49 PM:   Primal.  obj: 1.6717106150e-01    nrm: 1e+00    Viol.  con: 5e-11    var: 0e+00    cones: 0e+00  \n",
      "(CVXPY) Jun 16 05:10:49 PM:   Dual.    obj: 1.6717106914e-01    nrm: 3e+00    Viol.  con: 0e+00    var: 1e-10    cones: 0e+00  \n",
      "-------------------------------------------------------------------------------\n",
      "                                    Summary                                    \n",
      "-------------------------------------------------------------------------------\n",
      "(CVXPY) Jun 16 05:10:50 PM: Problem status: optimal\n",
      "(CVXPY) Jun 16 05:10:50 PM: Optimal value: 1.672e-01\n",
      "(CVXPY) Jun 16 05:10:50 PM: Compilation took 1.069e+01 seconds\n",
      "(CVXPY) Jun 16 05:10:50 PM: Solver (including time spent in interface) took 2.536e-01 seconds\n",
      "done\n"
     ]
    }
   ],
   "source": [
    "#!/usr/bin/env python\n",
    "# -*- coding:utf-8 -*-\n",
    "#\n",
    "# Created: 03/2022\n",
    "# Author: Carmelo Mordini <cmordini@phys.ethz.ch>\n",
    "\n",
    "import cvxpy as cx\n",
    "import numpy as np\n",
    "import matplotlib.pyplot as plt\n",
    "from scipy import signal as sg\n",
    "\n",
    "from pytrans import objectives as obj\n",
    "from pytrans.solver import solver, TrapFilterTransform, init_waveform\n",
    "\n",
    "\n",
    "n_samples = 256\n",
    "_t = np.arange(n_samples)\n",
    "voltage0 = sg.sawtooth(2 * np.pi * 4 * _t / _t.max(), width=0.5)\n",
    "n_pad = 50\n",
    "trap_filter = TrapFilterTransform(_trap_filter, pad_after=n_pad)\n",
    "\n",
    "waveform0 = init_waveform(n_samples, 1)\n",
    "waveform_filtered = trap_filter.transform(waveform0)\n",
    "\n",
    "objectives = []\n",
    "\n",
    "for j, v in enumerate(voltage0):\n",
    "    objectives.append(\n",
    "        obj.VoltageObjective(waveform_filtered[j], v)\n",
    "    )\n",
    "\n",
    "for j in range(n_pad):\n",
    "    objectives.append(\n",
    "        obj.VoltageObjective(waveform_filtered[n_samples + j], voltage0[-1])\n",
    "    )\n",
    "\n",
    "objectives.append(\n",
    "    obj.SlewRateObjective(waveform0, dt=dt, value=1e6, constraint_type='<='),\n",
    ")\n",
    "\n",
    "# trap_filter = None\n",
    "# step_objectives[0][0].weight *= 10\n",
    "\n",
    "print(\"Running solver\")\n",
    "# start_value = np.tile(v_start, (len(step_objectives), 1))\n",
    "_res = solver(objectives, verbose=True)\n",
    "print(\"done\")\n",
    "\n"
   ]
  },
  {
   "cell_type": "code",
   "execution_count": 14,
   "metadata": {},
   "outputs": [
    {
     "data": {
      "text/plain": [
       "((256, 1), (306, 1))"
      ]
     },
     "execution_count": 14,
     "metadata": {},
     "output_type": "execute_result"
    }
   ],
   "source": [
    "waveform0.shape, waveform_filtered.shape"
   ]
  },
  {
   "cell_type": "code",
   "execution_count": 15,
   "metadata": {},
   "outputs": [
    {
     "data": {
      "text/plain": [
       "[<matplotlib.lines.Line2D at 0x29bce6f7880>]"
      ]
     },
     "execution_count": 15,
     "metadata": {},
     "output_type": "execute_result"
    },
    {
     "data": {
      "image/png": "[encoded data removed]",
      "text/plain": [
       "<Figure size 1200x400 with 2 Axes>"
      ]
     },
     "metadata": {},
     "output_type": "display_data"
    }
   ],
   "source": [
    "\n",
    "# b, a, dt = _trap_filter\n",
    "# n_pad = 100\n",
    "# tt = _t * dt * 1e6\n",
    "# tf = np.arange(len(waveform0) + n_pad) * dt * 1e6\n",
    "# waveform_filt = lfilter_waveform(b, a, waveform0, pad_after=n_pad)\n",
    "# voltage = voltage0\n",
    "# waveform = pad_waveform(waveform0, n_pad)\n",
    "\n",
    "\n",
    "fig, (ax, ax1) = plt.subplots(1, 2, figsize=(12, 4))\n",
    "ax.plot(voltage0)\n",
    "ax.plot(waveform0.value)\n",
    "ax.plot(waveform_filtered.value)"
   ]
  },
  {
   "cell_type": "code",
   "execution_count": 16,
   "metadata": {},
   "outputs": [
    {
     "ename": "TypeError",
     "evalue": "object of type 'Variable' has no len()",
     "output_type": "error",
     "traceback": [
      "\u001b[1;31m---------------------------------------------------------------------------\u001b[0m",
      "\u001b[1;31mTypeError\u001b[0m                                 Traceback (most recent call last)",
      "Cell \u001b[1;32mIn[16], line 4\u001b[0m\n\u001b[0;32m      2\u001b[0m n_pad \u001b[38;5;241m=\u001b[39m \u001b[38;5;241m100\u001b[39m\n\u001b[0;32m      3\u001b[0m tt \u001b[38;5;241m=\u001b[39m _t \u001b[38;5;241m*\u001b[39m dt \u001b[38;5;241m*\u001b[39m \u001b[38;5;241m1e6\u001b[39m\n\u001b[1;32m----> 4\u001b[0m tf \u001b[38;5;241m=\u001b[39m np\u001b[38;5;241m.\u001b[39marange(\u001b[38;5;28;43mlen\u001b[39;49m\u001b[43m(\u001b[49m\u001b[43mwaveform0\u001b[49m\u001b[43m)\u001b[49m \u001b[38;5;241m+\u001b[39m n_pad) \u001b[38;5;241m*\u001b[39m dt \u001b[38;5;241m*\u001b[39m \u001b[38;5;241m1e6\u001b[39m\n\u001b[0;32m      5\u001b[0m waveform_filt \u001b[38;5;241m=\u001b[39m lfilter_waveform(b, a, waveform0, pad_after\u001b[38;5;241m=\u001b[39mn_pad)\n\u001b[0;32m      6\u001b[0m voltage \u001b[38;5;241m=\u001b[39m voltage0\n",
      "\u001b[1;31mTypeError\u001b[0m: object of type 'Variable' has no len()"
     ]
    }
   ],
   "source": [
    "\n",
    "b, a, dt = _trap_filter\n",
    "n_pad = 100\n",
    "tt = _t * dt * 1e6\n",
    "tf = np.arange(len(waveform0) + n_pad) * dt * 1e6\n",
    "waveform_filt = lfilter_waveform(b, a, waveform0, pad_after=n_pad)\n",
    "voltage = voltage0\n",
    "waveform = pad_waveform(waveform0, n_pad)\n",
    "\n",
    "\n",
    "fig, (ax, ax1) = plt.subplots(1, 2, figsize=(12, 4))\n",
    "ax.plot(voltage)\n",
    "ax.plot( waveform)\n",
    "ax.plot( waveform_filt)\n",
    "# plt.ylim(-2.3, 2.3)\n",
    "\n",
    "dv = np.gradient(voltage, tt, axis=0)\n",
    "dw = np.gradient(waveform, tf, axis=0)\n",
    "\n",
    "ax1.plot(tt, dv)\n",
    "ax1.plot(tf, dw)\n",
    "\n",
    "ax.axvline(256)\n",
    "\n",
    "\n"
   ]
  },
  {
   "cell_type": "code",
   "execution_count": null,
   "metadata": {},
   "outputs": [],
   "source": []
  },
  {
   "cell_type": "code",
   "execution_count": null,
   "metadata": {},
   "outputs": [
    {
     "data": {
      "text/plain": [
       "(356, 1)"
      ]
     },
     "execution_count": 6,
     "metadata": {},
     "output_type": "execute_result"
    }
   ],
   "source": [
    "waveform.shape"
   ]
  },
  {
   "cell_type": "code",
   "execution_count": null,
   "metadata": {},
   "outputs": [],
   "source": []
  }
 ],
 "metadata": {
  "kernelspec": {
   "display_name": "Python 3.10.5 ('.venv': poetry)",
   "language": "python",
   "name": "python3"
  },
  "language_info": {
   "codemirror_mode": {
    "name": "ipython",
    "version": 3
   },
   "file_extension": ".py",
   "mimetype": "text/x-python",
   "name": "python",
   "nbconvert_exporter": "python",
   "pygments_lexer": "ipython3",
   "version": "3.10.5"
  },
  "orig_nbformat": 4,
  "vscode": {
   "interpreter": {
    "hash": "e80bed49207b66a81e9cb3cb21cb1b204ef11ce4fbc928d6d0f4cf73f3dd8732"
   }
  }
 },
 "nbformat": 4,
 "nbformat_minor": 2
}
