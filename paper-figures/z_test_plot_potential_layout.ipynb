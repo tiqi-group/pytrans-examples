{
 "cells": [
  {
   "cell_type": "code",
   "execution_count": 1,
   "metadata": {},
   "outputs": [],
   "source": [
    "# %matplotlib inline\n",
    "import matplotlib.pyplot as plt"
   ]
  },
  {
   "cell_type": "code",
   "execution_count": 2,
   "metadata": {},
   "outputs": [
    {
     "data": {
      "text/plain": [
       "[6.4, 4.8]"
      ]
     },
     "execution_count": 2,
     "metadata": {},
     "output_type": "execute_result"
    }
   ],
   "source": [
    "plt.rcParams['figure.figsize']"
   ]
  },
  {
   "cell_type": "code",
   "execution_count": 3,
   "metadata": {},
   "outputs": [
    {
     "data": {
      "text/plain": [
       "3.0"
      ]
     },
     "execution_count": 3,
     "metadata": {},
     "output_type": "execute_result"
    }
   ],
   "source": [
    "4 / 6.4 * 4.8"
   ]
  },
  {
   "cell_type": "code",
   "execution_count": 4,
   "metadata": {},
   "outputs": [
    {
     "data": {
      "text/plain": [
       "3.84"
      ]
     },
     "execution_count": 4,
     "metadata": {},
     "output_type": "execute_result"
    }
   ],
   "source": [
    "4.8 / 5 * 4"
   ]
  },
  {
   "cell_type": "code",
   "execution_count": 2,
   "metadata": {},
   "outputs": [],
   "source": [
    "def plot_potential_make_axes(fig):\n",
    "    ratio = 3\n",
    "    gs = fig.add_gridspec(3, 2,\n",
    "                  height_ratios=[ratio, 1, 1],\n",
    "                  width_ratios=[1, ratio]\n",
    "    )\n",
    "                #   wspace=0.2, hspace=0.15,\n",
    "                #   left=left, right=right,\n",
    "                #   top=0.95, bottom=0.1)\n",
    "\n",
    "    ax_y = fig.add_subplot(gs[1, 1])\n",
    "    ax_z = fig.add_subplot(gs[0, 0])\n",
    "    ax_im = fig.add_subplot(gs[0, 1], sharex=ax_y, sharey=ax_z)\n",
    "    for label in ax_im.get_xticklabels():\n",
    "        label.set_visible(False)\n",
    "    for label in ax_im.get_yticklabels():\n",
    "        label.set_visible(False)\n",
    "    ax_y.set_yticks([])\n",
    "    ax_z.set_xticks([])\n",
    "    ax_im.set_aspect(1)\n",
    "    ax0 = fig.add_subplot(gs[1, 0])\n",
    "    ax0.axis('off')\n",
    "    ax_x = fig.add_subplot(gs[2, :])\n",
    "    return ax_x, ax_y, ax_z, ax_im, ax0\n",
    "\n"
   ]
  },
  {
   "cell_type": "code",
   "execution_count": 3,
   "metadata": {},
   "outputs": [
    {
     "data": {
      "text/plain": [
       "array([4., 5.])"
      ]
     },
     "execution_count": 3,
     "metadata": {},
     "output_type": "execute_result"
    }
   ],
   "source": [
    "plt.figaspect(5/4)"
   ]
  },
  {
   "cell_type": "code",
   "execution_count": 4,
   "metadata": {},
   "outputs": [
    {
     "data": {
      "image/png": "[encoded data removed]",
      "text/plain": [
       "<Figure size 400x600 with 5 Axes>"
      ]
     },
     "metadata": {},
     "output_type": "display_data"
    }
   ],
   "source": [
    "figsize = plt.figaspect(6/4)\n",
    "fig = plt.figure(figsize=figsize, layout='constrained')\n",
    "figs = fig.subfigures(1, 2)\n",
    "\n",
    "axes = plot_potential_make_axes(figs[0])"
   ]
  },
  {
   "cell_type": "code",
   "execution_count": 5,
   "metadata": {},
   "outputs": [
    {
     "data": {
      "text/plain": [
       "array([<matplotlib.figure.SubFigure object at 0x0000026A1C781540>,\n",
       "       <matplotlib.figure.SubFigure object at 0x0000026A1C7817B0>],\n",
       "      dtype=object)"
      ]
     },
     "execution_count": 5,
     "metadata": {},
     "output_type": "execute_result"
    }
   ],
   "source": [
    "figs"
   ]
  },
  {
   "cell_type": "code",
   "execution_count": null,
   "metadata": {},
   "outputs": [],
   "source": []
  }
 ],
 "metadata": {
  "kernelspec": {
   "display_name": ".venv",
   "language": "python",
   "name": "python3"
  },
  "language_info": {
   "codemirror_mode": {
    "name": "ipython",
    "version": 3
   },
   "file_extension": ".py",
   "mimetype": "text/x-python",
   "name": "python",
   "nbconvert_exporter": "python",
   "pygments_lexer": "ipython3",
   "version": "3.10.4"
  },
  "orig_nbformat": 4
 },
 "nbformat": 4,
 "nbformat_minor": 2
}
